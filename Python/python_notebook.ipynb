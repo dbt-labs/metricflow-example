{
 "cells": [
  {
   "cell_type": "markdown",
   "metadata": {},
   "source": [
    "# Using MetricFlow in Python"
   ]
  },
  {
   "cell_type": "markdown",
   "metadata": {},
   "source": [
    "This notebook shows how to use the MetricFlow Python API in a Jupyter notebook environment to query metrics and dimensions. \n",
    "\n",
    "Full documentation for the MetricFlow Python client can be found [here](https://github.com/transform-data/metricflow/blob/main/metricflow/api/metricflow_client.py)"
   ]
  },
  {
   "cell_type": "markdown",
   "metadata": {},
   "source": [
    "Import Packages"
   ]
  },
  {
   "cell_type": "code",
   "execution_count": 8,
   "metadata": {},
   "outputs": [],
   "source": [
    "from metricflow import MetricFlowClient\n",
    "import pandas as pd\n",
    "import matplotlib.pyplot as plt"
   ]
  },
  {
   "cell_type": "markdown",
   "metadata": {},
   "source": [
    "Set up MetricFlow client from config file. This file is generated when you run mf setup."
   ]
  },
  {
   "cell_type": "code",
   "execution_count": 9,
   "metadata": {},
   "outputs": [],
   "source": [
    "mf = MetricFlowClient.from_config(config_file_path=\"/Users/heshamnawaz/.metricflow/config.yml\")"
   ]
  },
  {
   "cell_type": "markdown",
   "metadata": {},
   "source": [
    "You can list metrics using the command line."
   ]
  },
  {
   "cell_type": "code",
   "execution_count": 10,
   "metadata": {},
   "outputs": [
    {
     "name": "stdout",
     "output_type": "stream",
     "text": [
      "\u001b[0m\u001b[K\u001b[0m\u001b[?25h\u001b[0m\u001b[32m✔\u001b[39m 🌱 We've found 13 metrics.\n",
      "\u001b[0m\u001b[0mThe list below shows metrics in the format of \"metric_name: list of available dimensions\"\n",
      "\u001b[0m• \u001b[32m\u001b[1mcancellations\u001b[0m: customer__country__region, customer__ds, ds, is_large, quick_buy_transaction\n",
      "\u001b[0m• \u001b[32m\u001b[1mcancellation_rate\u001b[0m: customer__country__region, customer__ds, ds, is_large, quick_buy_transaction\n",
      "\u001b[0m• \u001b[32m\u001b[1mrevenue_usd\u001b[0m: customer__country__region, customer__ds, ds, is_large, quick_buy_transaction\n",
      "\u001b[0m• \u001b[32m\u001b[1mcancellations_mx\u001b[0m: customer__country__region, customer__ds, ds, is_large, quick_buy_transaction\n",
      "\u001b[0m• \u001b[32m\u001b[1mtransaction_usd_na\u001b[0m: customer__country__region, customer__ds, ds, is_large, quick_buy_transaction\n",
      "\u001b[0m• \u001b[32m\u001b[1mtransaction_usd_l7d_mx\u001b[0m: customer__country__region, customer__ds, ds, is_large, quick_buy_transaction\n",
      "\u001b[0m• \u001b[32m\u001b[1mtransaction_usd_mtd\u001b[0m: customer__country__region, customer__ds, ds, is_large, quick_buy_transaction\n",
      "\u001b[0m• \u001b[32m\u001b[1mtransaction_usd_na_l7d\u001b[0m: customer__country__region, customer__ds, ds, is_large, quick_buy_transaction\n",
      "\u001b[0m• \u001b[32m\u001b[1mtransaction_amount_usd\u001b[0m: customer__country__region, customer__ds, ds, is_large, quick_buy_transaction\n",
      "\u001b[0m• \u001b[32m\u001b[1mtransactions\u001b[0m: customer__country__region, customer__ds, ds, is_large, quick_buy_transaction\n",
      "\u001b[0m• \u001b[32m\u001b[1mquick_buy_amount_usd\u001b[0m: customer__country__region, customer__ds, ds, is_large, quick_buy_transaction\n",
      "\u001b[0m• \u001b[32m\u001b[1mquick_buy_transactions\u001b[0m: customer__country__region, customer__ds, ds, is_large, quick_buy_transaction\n",
      "\u001b[0m• \u001b[32m\u001b[1mnew_customers\u001b[0m: country__region, ds\n",
      "\u001b[0m\u001b[K\u001b[0m\u001b[?25h\u001b[0m\u001b[0m"
     ]
    }
   ],
   "source": [
    "!mf list-metrics"
   ]
  },
  {
   "cell_type": "markdown",
   "metadata": {},
   "source": [
    "You can also list metrics with the list_metrics method."
   ]
  },
  {
   "cell_type": "code",
   "execution_count": 11,
   "metadata": {},
   "outputs": [
    {
     "data": {
      "text/plain": [
       "dict_keys(['cancellations', 'cancellation_rate', 'revenue_usd', 'cancellations_mx', 'transaction_usd_na', 'transaction_usd_l7d_mx', 'transaction_usd_mtd', 'transaction_usd_na_l7d', 'transaction_amount_usd', 'transactions', 'quick_buy_amount_usd', 'quick_buy_transactions', 'new_customers'])"
      ]
     },
     "execution_count": 11,
     "metadata": {},
     "output_type": "execute_result"
    }
   ],
   "source": [
    "mf.list_metrics().keys()"
   ]
  },
  {
   "cell_type": "markdown",
   "metadata": {},
   "source": [
    "You can see all available dimensions for a given metric or metrics using the list_dimensions method."
   ]
  },
  {
   "cell_type": "code",
   "execution_count": 12,
   "metadata": {},
   "outputs": [
    {
     "data": {
      "text/plain": [
       "[Dimension(name='customer__country__region'),\n",
       " Dimension(name='customer__ds'),\n",
       " Dimension(name='ds'),\n",
       " Dimension(name='is_large'),\n",
       " Dimension(name='quick_buy_transaction')]"
      ]
     },
     "execution_count": 12,
     "metadata": {},
     "output_type": "execute_result"
    }
   ],
   "source": [
    "mf.list_dimensions(metric_names=[\"revenue_usd\"])"
   ]
  },
  {
   "cell_type": "markdown",
   "metadata": {},
   "source": [
    "You can store the results of the query in a Pandas dataframe using the query method and result_df attribute."
   ]
  },
  {
   "cell_type": "code",
   "execution_count": 13,
   "metadata": {},
   "outputs": [],
   "source": [
    "query_results = mf.query(metrics=[\"revenue_usd\"], dimensions=[\"ds\"])\n"
   ]
  },
  {
   "cell_type": "code",
   "execution_count": 14,
   "metadata": {},
   "outputs": [
    {
     "data": {
      "text/html": [
       "<div>\n",
       "<style scoped>\n",
       "    .dataframe tbody tr th:only-of-type {\n",
       "        vertical-align: middle;\n",
       "    }\n",
       "\n",
       "    .dataframe tbody tr th {\n",
       "        vertical-align: top;\n",
       "    }\n",
       "\n",
       "    .dataframe thead th {\n",
       "        text-align: right;\n",
       "    }\n",
       "</style>\n",
       "<table border=\"1\" class=\"dataframe\">\n",
       "  <thead>\n",
       "    <tr style=\"text-align: right;\">\n",
       "      <th></th>\n",
       "      <th>revenue_usd</th>\n",
       "      <th>ds</th>\n",
       "    </tr>\n",
       "  </thead>\n",
       "  <tbody>\n",
       "    <tr>\n",
       "      <th>0</th>\n",
       "      <td>488.01</td>\n",
       "      <td>2022-03-07</td>\n",
       "    </tr>\n",
       "    <tr>\n",
       "      <th>1</th>\n",
       "      <td>577.00</td>\n",
       "      <td>2022-03-08</td>\n",
       "    </tr>\n",
       "    <tr>\n",
       "      <th>2</th>\n",
       "      <td>7.66</td>\n",
       "      <td>2022-03-09</td>\n",
       "    </tr>\n",
       "    <tr>\n",
       "      <th>3</th>\n",
       "      <td>79.88</td>\n",
       "      <td>2022-03-10</td>\n",
       "    </tr>\n",
       "    <tr>\n",
       "      <th>4</th>\n",
       "      <td>0.00</td>\n",
       "      <td>2022-03-11</td>\n",
       "    </tr>\n",
       "  </tbody>\n",
       "</table>\n",
       "</div>"
      ],
      "text/plain": [
       "   revenue_usd         ds\n",
       "0       488.01 2022-03-07\n",
       "1       577.00 2022-03-08\n",
       "2         7.66 2022-03-09\n",
       "3        79.88 2022-03-10\n",
       "4         0.00 2022-03-11"
      ]
     },
     "execution_count": 14,
     "metadata": {},
     "output_type": "execute_result"
    }
   ],
   "source": [
    "df = query_results.result_df\n",
    "df.head()"
   ]
  },
  {
   "cell_type": "code",
   "execution_count": 15,
   "metadata": {},
   "outputs": [
    {
     "data": {
      "image/png": "[encoded data removed]",
      "text/plain": [
       "<Figure size 1152x288 with 1 Axes>"
      ]
     },
     "metadata": {
      "needs_background": "light"
     },
     "output_type": "display_data"
    }
   ],
   "source": [
    "plt.figure(figsize=(16, 4))\n",
    "plt.xlabel(\"Date\")\n",
    "plt.ylabel(\"Revenue ($)\")\n",
    "plt.plot(df.ds, df.revenue_usd)\n",
    "plt.show()"
   ]
  }
 ],
 "metadata": {
  "kernelspec": {
   "display_name": "Python 3.9.13 64-bit",
   "language": "python",
   "name": "python3"
  },
  "language_info": {
   "codemirror_mode": {
    "name": "ipython",
    "version": 3
   },
   "file_extension": ".py",
   "mimetype": "text/x-python",
   "name": "python",
   "nbconvert_exporter": "python",
   "pygments_lexer": "ipython3",
   "version": "3.9.13"
  },
  "orig_nbformat": 4,
  "vscode": {
   "interpreter": {
    "hash": "b8bdd4e700647ba2b08c59e5df8b7da1dcf50a218bcd4c1bcd9b3dc92e8788e5"
   }
  }
 },
 "nbformat": 4,
 "nbformat_minor": 2
}
